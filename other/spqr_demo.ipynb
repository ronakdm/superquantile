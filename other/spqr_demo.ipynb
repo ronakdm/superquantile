{
 "cells": [
  {
   "cell_type": "code",
   "execution_count": 1,
   "id": "9bdb450f",
   "metadata": {},
   "outputs": [],
   "source": [
    "import os\n",
    "import sys\n",
    "import numpy as np\n",
    "\n",
    "module_path = os.path.abspath(os.path.join('..'))\n",
    "if module_path not in sys.path:\n",
    "    sys.path.append(module_path)\n",
    "from spqr.spqr import DRLogisticRegression"
   ]
  },
  {
   "cell_type": "code",
   "execution_count": 7,
   "id": "4aa20f91",
   "metadata": {},
   "outputs": [],
   "source": [
    "np.random.seed(123)\n",
    "\n",
    "X = np.random.rand(100,2)\n",
    "w = np.array([1.,2.])\n",
    "y = np.random.binomial(1, 1 / (1 + np.exp(np.clip(np.dot(X,w) + np.random.rand(100), -10, 10))))"
   ]
  },
  {
   "cell_type": "code",
   "execution_count": 8,
   "id": "2e8f2934",
   "metadata": {},
   "outputs": [],
   "source": [
    "def loss(w,x,y):\n",
    "    return (y - np.dot(x,w))**2\n",
    "def loss_prime(w,x,y):\n",
    "    return -2.0 * np.dot(y - np.dot(x,w), x)\n",
    "def new_loss(w,x,y):\n",
    "    return np.square(y - np.dot(x,w))\n",
    "def new_loss_prime(w,x,y):\n",
    "    u = np.diag(y - np.dot(x, w))\n",
    "    return -2.0 * np.dot(u, x)"
   ]
  },
  {
   "cell_type": "code",
   "execution_count": 13,
   "id": "9b4612d8",
   "metadata": {},
   "outputs": [],
   "source": [
    "def predict_proba(model, x):\n",
    "    \"\"\" Gives a prediction of x\n",
    "            :param ``numpy.array`` x: input whose label is to predict\n",
    "            :return:  value of the prediction\n",
    "    \"\"\"\n",
    "    self = model\n",
    "    formatted_x = np.ones((x.shape[0], self.n_features + self.fit_intercept))\n",
    "    formatted_x[:, self.fit_intercept:] = x\n",
    "    casted_sol = np.reshape(self.solution, (self.n_features + self.fit_intercept, self.n_classes))\n",
    "    probas = np.dot(formatted_x, casted_sol)\n",
    "    # predictions = np.argmax(probas, axis=1)\n",
    "    return probas"
   ]
  },
  {
   "cell_type": "code",
   "execution_count": 9,
   "id": "a5a23611",
   "metadata": {},
   "outputs": [],
   "source": [
    "model = DRLogisticRegression(p=0.9, mu=1.0)"
   ]
  },
  {
   "cell_type": "code",
   "execution_count": 10,
   "id": "48fcb2e2",
   "metadata": {},
   "outputs": [
    {
     "name": "stdout",
     "output_type": "stream",
     "text": [
      "5\n",
      "0.004873253489592764\n",
      "[-0.00487325  0.01860663 -0.01860663  0.02878748 -0.02878748]\n"
     ]
    }
   ],
   "source": [
    "model.fit(X,y)"
   ]
  },
  {
   "cell_type": "code",
   "execution_count": 14,
   "id": "eefa05ef",
   "metadata": {},
   "outputs": [
    {
     "name": "stdout",
     "output_type": "stream",
     "text": [
      "(100, 2)\n"
     ]
    }
   ],
   "source": [
    "probs = predict_proba(model, X)\n",
    "print(probs.shape)"
   ]
  },
  {
   "cell_type": "code",
   "execution_count": null,
   "id": "6330e5df",
   "metadata": {},
   "outputs": [],
   "source": []
  }
 ],
 "metadata": {
  "kernelspec": {
   "display_name": "Python 3",
   "language": "python",
   "name": "python3"
  },
  "language_info": {
   "codemirror_mode": {
    "name": "ipython",
    "version": 3
   },
   "file_extension": ".py",
   "mimetype": "text/x-python",
   "name": "python",
   "nbconvert_exporter": "python",
   "pygments_lexer": "ipython3",
   "version": "3.9.4"
  }
 },
 "nbformat": 4,
 "nbformat_minor": 5
}
