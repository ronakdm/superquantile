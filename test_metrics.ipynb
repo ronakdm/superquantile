{
 "cells": [
  {
   "cell_type": "code",
   "execution_count": 3,
   "id": "73a7662e",
   "metadata": {},
   "outputs": [],
   "source": [
    "import numpy as np\n",
    "import pickle\n",
    "from sklearn.metrics import log_loss"
   ]
  },
  {
   "cell_type": "code",
   "execution_count": null,
   "id": "40665c2c",
   "metadata": {},
   "outputs": [],
   "source": [
    "best_lr_id = pickle.load(open(\"metrics/best_lr_id.p\", \"rb\"))"
   ]
  },
  {
   "cell_type": "code",
   "execution_count": 4,
   "id": "23973394",
   "metadata": {},
   "outputs": [],
   "source": [
    "y_test = np.load(\"out/y_test.npy\")"
   ]
  },
  {
   "cell_type": "code",
   "execution_count": 5,
   "id": "1d490988",
   "metadata": {},
   "outputs": [],
   "source": [
    "def compute_probabilities(coef, intercept, X):\n",
    "    Z = np.dot(X, coef.T) + intercept.reshape(1, -1)\n",
    "    np.clip(Z, -10, 10)\n",
    "    return 1 / (1 + np.exp(-Z))"
   ]
  },
  {
   "cell_type": "code",
   "execution_count": null,
   "id": "77eaa5a7",
   "metadata": {},
   "outputs": [],
   "source": []
  }
 ],
 "metadata": {
  "kernelspec": {
   "display_name": "Python 3",
   "language": "python",
   "name": "python3"
  },
  "language_info": {
   "codemirror_mode": {
    "name": "ipython",
    "version": 3
   },
   "file_extension": ".py",
   "mimetype": "text/x-python",
   "name": "python",
   "nbconvert_exporter": "python",
   "pygments_lexer": "ipython3",
   "version": "3.6.13"
  }
 },
 "nbformat": 4,
 "nbformat_minor": 5
}
