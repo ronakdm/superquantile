{
 "cells": [
  {
   "cell_type": "code",
   "execution_count": 1,
   "id": "9bdb450f",
   "metadata": {},
   "outputs": [],
   "source": [
    "import os\n",
    "import sys\n",
    "import numpy as np\n",
    "\n",
    "module_path = os.path.abspath(os.path.join('..'))\n",
    "if module_path not in sys.path:\n",
    "    sys.path.append(module_path)\n",
    "from spqr.spqr import DRLogisticRegression"
   ]
  },
  {
   "cell_type": "code",
   "execution_count": 7,
   "id": "4aa20f91",
   "metadata": {},
   "outputs": [],
   "source": [
    "np.random.seed(123)\n",
    "\n",
    "X = np.random.rand(100,2)\n",
    "w = np.array([1.,2.])\n",
    "y = np.random.binomial(1, 1 / (1 + np.exp(np.clip(np.dot(X,w) + np.random.rand(100), -10, 10))))"
   ]
  },
  {
   "cell_type": "code",
   "execution_count": 8,
   "id": "2e8f2934",
   "metadata": {},
   "outputs": [],
   "source": [
    "def loss(w,x,y):\n",
    "    return (y - np.dot(x,w))**2\n",
    "def loss_prime(w,x,y):\n",
    "    return -2.0 * np.dot(y - np.dot(x,w), x)\n",
    "def new_loss(w,x,y):\n",
    "    return np.square(y - np.dot(x,w))\n",
    "def new_loss_prime(w,x,y):\n",
    "    u = np.diag(y - np.dot(x, w))\n",
    "    return -2.0 * np.dot(u, x)"
   ]
  },
  {
   "cell_type": "code",
   "execution_count": 9,
   "id": "a5a23611",
   "metadata": {},
   "outputs": [],
   "source": [
    "model = DRLogisticRegression(p=0.9, mu=1.0)"
   ]
  },
  {
   "cell_type": "code",
   "execution_count": 10,
   "id": "48fcb2e2",
   "metadata": {},
   "outputs": [
    {
     "name": "stdout",
     "output_type": "stream",
     "text": [
      "5\n",
      "0.004873253489592764\n",
      "[-0.00487325  0.01860663 -0.01860663  0.02878748 -0.02878748]\n"
     ]
    }
   ],
   "source": [
    "model.fit(X,y)"
   ]
  },
  {
   "cell_type": "code",
   "execution_count": 12,
   "id": "eefa05ef",
   "metadata": {},
   "outputs": [
    {
     "ename": "AttributeError",
     "evalue": "'DRLogisticRegression' object has no attribute 'predict_proba'",
     "output_type": "error",
     "traceback": [
      "\u001b[0;31m---------------------------------------------------------------------------\u001b[0m",
      "\u001b[0;31mAttributeError\u001b[0m                            Traceback (most recent call last)",
      "\u001b[0;32m<ipython-input-12-1eb6a9b846a2>\u001b[0m in \u001b[0;36m<module>\u001b[0;34m\u001b[0m\n\u001b[0;32m----> 1\u001b[0;31m \u001b[0mprobs\u001b[0m \u001b[0;34m=\u001b[0m \u001b[0mmodel\u001b[0m\u001b[0;34m.\u001b[0m\u001b[0mpredict_proba\u001b[0m\u001b[0;34m(\u001b[0m\u001b[0mX\u001b[0m\u001b[0;34m)\u001b[0m\u001b[0;34m\u001b[0m\u001b[0;34m\u001b[0m\u001b[0m\n\u001b[0m\u001b[1;32m      2\u001b[0m \u001b[0mprint\u001b[0m\u001b[0;34m(\u001b[0m\u001b[0mprobs\u001b[0m\u001b[0;34m.\u001b[0m\u001b[0mshape\u001b[0m\u001b[0;34m)\u001b[0m\u001b[0;34m\u001b[0m\u001b[0;34m\u001b[0m\u001b[0m\n",
      "\u001b[0;31mAttributeError\u001b[0m: 'DRLogisticRegression' object has no attribute 'predict_proba'"
     ]
    }
   ],
   "source": [
    "probs = model.predict_proba(X)\n",
    "print(probs.shape)"
   ]
  },
  {
   "cell_type": "code",
   "execution_count": null,
   "id": "045fe10b",
   "metadata": {},
   "outputs": [],
   "source": []
  }
 ],
 "metadata": {
  "kernelspec": {
   "display_name": "Python 3",
   "language": "python",
   "name": "python3"
  },
  "language_info": {
   "codemirror_mode": {
    "name": "ipython",
    "version": 3
   },
   "file_extension": ".py",
   "mimetype": "text/x-python",
   "name": "python",
   "nbconvert_exporter": "python",
   "pygments_lexer": "ipython3",
   "version": "3.6.13"
  }
 },
 "nbformat": 4,
 "nbformat_minor": 5
}
