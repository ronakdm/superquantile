{
 "cells": [
  {
   "cell_type": "code",
   "execution_count": 28,
   "id": "9bdb450f",
   "metadata": {},
   "outputs": [],
   "source": [
    "import numpy as np\n",
    "from spqr.spqr import RiskOptimizer"
   ]
  },
  {
   "cell_type": "code",
   "execution_count": 34,
   "id": "4aa20f91",
   "metadata": {},
   "outputs": [],
   "source": [
    "np.random.seed(123)\n",
    "\n",
    "X = np.random.rand(100,2)\n",
    "w = np.array([1.,2.])\n",
    "y = np.dot(X,w) + np.random.rand(100)"
   ]
  },
  {
   "cell_type": "code",
   "execution_count": 40,
   "id": "2e8f2934",
   "metadata": {},
   "outputs": [],
   "source": [
    "def loss(w,x,y):\n",
    "    return (y - np.dot(x,w))**2\n",
    "def loss_prime(w,x,y):\n",
    "    return -2.0 * np.dot(y - np.dot(x,w), x)\n",
    "def new_loss(w,x,y):\n",
    "    return np.square(y - np.dot(x,w))\n",
    "def new_loss_prime(w,x,y):\n",
    "    u = np.diag(y - np.dot(x, w))\n",
    "    return -2.0 * np.dot(u, x)"
   ]
  },
  {
   "cell_type": "code",
   "execution_count": 41,
   "id": "a5a23611",
   "metadata": {},
   "outputs": [],
   "source": [
    "optimizer = RiskOptimizer(new_loss, new_loss_prime, p=0.8)"
   ]
  },
  {
   "cell_type": "code",
   "execution_count": 42,
   "id": "48fcb2e2",
   "metadata": {},
   "outputs": [],
   "source": [
    "optimizer.fit(X,y)\n",
    "sol = optimizer.solution"
   ]
  },
  {
   "cell_type": "code",
   "execution_count": 43,
   "id": "e5945b1f",
   "metadata": {},
   "outputs": [
    {
     "name": "stdout",
     "output_type": "stream",
     "text": [
      "[1.32027861 2.71733601]\n"
     ]
    }
   ],
   "source": [
    "print(sol)"
   ]
  },
  {
   "cell_type": "code",
   "execution_count": null,
   "id": "eefa05ef",
   "metadata": {},
   "outputs": [],
   "source": []
  }
 ],
 "metadata": {
  "kernelspec": {
   "display_name": "Python 3",
   "language": "python",
   "name": "python3"
  },
  "language_info": {
   "codemirror_mode": {
    "name": "ipython",
    "version": 3
   },
   "file_extension": ".py",
   "mimetype": "text/x-python",
   "name": "python",
   "nbconvert_exporter": "python",
   "pygments_lexer": "ipython3",
   "version": "3.6.13"
  }
 },
 "nbformat": 4,
 "nbformat_minor": 5
}
