{
 "cells": [
  {
   "cell_type": "code",
   "execution_count": 1,
   "id": "b336c15a",
   "metadata": {},
   "outputs": [],
   "source": [
    "import numpy as np\n",
    "from sklearn.metrics import accuracy_score, average_precision_score, f1_score"
   ]
  },
  {
   "cell_type": "code",
   "execution_count": 2,
   "id": "475244fb",
   "metadata": {},
   "outputs": [],
   "source": [
    "# Metrics.\n",
    "\n",
    "def accuracy(y_true, probas_pred):\n",
    "    y_pred = np.argmax(probas_pred, axis=1)\n",
    "    return accuracy_score(y_true, y_pred)\n",
    "\n",
    "def weighted_average_precision(y_true, probas_pred):\n",
    "    classes, counts = np.unique(y_true, return_counts=True)\n",
    "    scores = np.zeros(len(classes))\n",
    "    for i, class_ in enumerate(classes):\n",
    "        y_true_ = (y_true == class_).astype(int)\n",
    "        probas_pred_ = probas_pred[:, class_]\n",
    "        scores[i] = average_precision_score(y_true_, probas_pred_)\n",
    "    return np.sum(scores * counts) / np.sum(counts)\n",
    "\n",
    "def macro_average_precision(y_true, probas_pred):\n",
    "    classes = np.unique(y_true)\n",
    "    scores = np.zeros(len(classes))\n",
    "    for i, class_ in enumerate(classes):\n",
    "        y_true_ = (y_true == class_).astype(int)\n",
    "        probas_pred_ = probas_pred[:, class_]\n",
    "        scores[i] = average_precision_score(y_true_, probas_pred_)\n",
    "    return np.mean(scores)\n",
    "\n",
    "def macro_f1(y_true, probas_pred):\n",
    "    y_pred = np.argmax(probas_pred, axis=1)\n",
    "    return f1_score(y_true, y_pred, average=\"macro\", zero_division=0)\n",
    "\n",
    "def weighted_f1(y_true, probas_pred):\n",
    "    y_pred = np.argmax(probas_pred, axis=1)\n",
    "    return f1_score(y_true, y_pred, average=\"macro\", zero_division=0)"
   ]
  },
  {
   "cell_type": "code",
   "execution_count": 3,
   "id": "0299e036",
   "metadata": {},
   "outputs": [],
   "source": [
    "def superquantile(p, losses, counts):\n",
    "    flat_losses = []\n",
    "    for i, loss in enumerate(losses):\n",
    "        for j in range(counts[i]):\n",
    "            flat_losses.append(loss)\n",
    "    arr = np.array(losses)\n",
    "    return np.mean(arr[arr >= np.quantile(arr, p)])"
   ]
  },
  {
   "cell_type": "code",
   "execution_count": 4,
   "id": "bc01539c",
   "metadata": {},
   "outputs": [],
   "source": [
    "metrics = [\n",
    "    accuracy, \n",
    "    weighted_average_precision, \n",
    "    macro_average_precision, \n",
    "    macro_f1, \n",
    "    weighted_f1\n",
    "]\n",
    "\n",
    "metric_names = [\n",
    "    \"accuracy\", \n",
    "    \"weighted_average_precision\", \n",
    "    \"macro_average_precision\", \n",
    "    \"macro_f1\", \n",
    "    \"weighted_f1\"\n",
    "]"
   ]
  },
  {
   "cell_type": "code",
   "execution_count": 5,
   "id": "916b7753",
   "metadata": {},
   "outputs": [
    {
     "name": "stdout",
     "output_type": "stream",
     "text": [
      "(14961,)\n",
      "(14961, 9)\n"
     ]
    }
   ],
   "source": [
    "metadata = np.load(\"../data/val_metadata.npy\")\n",
    "y_val = np.load(\"../out/y_val.npy\")\n",
    "\n",
    "print(y_val.shape)\n",
    "print(metadata.shape)\n",
    "\n",
    "val_classes = np.unique(y_val)\n",
    "locations = metadata[:, 0]"
   ]
  },
  {
   "cell_type": "code",
   "execution_count": 6,
   "id": "b44da9e1",
   "metadata": {},
   "outputs": [],
   "source": [
    "algos = [\n",
    "    {\n",
    "        \"name\" : \"k-Nearest Neighbors\",\n",
    "        \"filename\" : \"knn\",\n",
    "        \"job_ids\" : np.arange(10) + 1,\n",
    "        \"param_range\" : np.arange(10) + 1\n",
    "    },\n",
    "#     {\n",
    "#         \"name\" : \"Logistic Regression\",\n",
    "#         \"filename\" : \"lr\",\n",
    "#         \"job_ids\" : np.arange(10),\n",
    "#         \"param_range\" : np.logspace(-5, 5, 10)\n",
    "#     },\n",
    "]"
   ]
  },
  {
   "cell_type": "code",
   "execution_count": 7,
   "id": "91267073",
   "metadata": {},
   "outputs": [],
   "source": [
    "def compute_negated_metric_distribution(y_true, locations, metric, metric_name, algo):\n",
    "    unique_locs, loc_counts = np.unique(locations, return_counts=True)\n",
    "    for job_id in algo[\"job_ids\"]:\n",
    "        probas_pred = np.load(\"../out/%s_probas_pred_%d.npy\" % (algo[\"filename\"], job_id))\n",
    "        losses = []\n",
    "        for loc in unique_locs:\n",
    "            losses.append(1 - metric(y_true[locations==loc], probas_pred[locations==loc]))\n",
    "        algo[\"%s_losses_%d\" % (metric_name, job_id)] = np.array(losses)\n",
    "        \n",
    "    return algos"
   ]
  },
  {
   "cell_type": "code",
   "execution_count": 8,
   "id": "92c39445",
   "metadata": {},
   "outputs": [],
   "source": [
    "for i, metric in enumerate(metrics):\n",
    "    for algo in algos:\n",
    "        compute_negated_metric_distribution(y_val, locations, metric, metric_names[i], algo)"
   ]
  },
  {
   "cell_type": "code",
   "execution_count": null,
   "id": "cef2851c",
   "metadata": {},
   "outputs": [],
   "source": [
    "# Plot superquantiles of these loss distributions."
   ]
  }
 ],
 "metadata": {
  "kernelspec": {
   "display_name": "Python 3",
   "language": "python",
   "name": "python3"
  },
  "language_info": {
   "codemirror_mode": {
    "name": "ipython",
    "version": 3
   },
   "file_extension": ".py",
   "mimetype": "text/x-python",
   "name": "python",
   "nbconvert_exporter": "python",
   "pygments_lexer": "ipython3",
   "version": "3.9.4"
  }
 },
 "nbformat": 4,
 "nbformat_minor": 5
}
