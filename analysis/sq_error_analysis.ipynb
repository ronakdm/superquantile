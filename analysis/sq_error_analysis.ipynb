{
 "cells": [
  {
   "cell_type": "code",
   "execution_count": 2,
   "id": "fcce4d41",
   "metadata": {},
   "outputs": [],
   "source": [
    "import numpy as np\n",
    "import pickle\n",
    "from sklearn.metrics import accuracy_score"
   ]
  },
  {
   "cell_type": "code",
   "execution_count": 12,
   "id": "27aa5672",
   "metadata": {},
   "outputs": [],
   "source": [
    "# Look at the distribution of accuracies across various locations.\n",
    "\n",
    "def superquantile(p, arr):\n",
    "    return np.mean(arr[arr >= np.quantile(arr, p)])\n",
    "\n",
    "def compute_location_sq(p, y_true, y_pred, locations):\n",
    "    errs = []\n",
    "    for loc in np.unique(locations):\n",
    "        idx = (locations==loc)\n",
    "        errs.append(1 - accuracy_score(y_true[idx], y_pred[idx]))\n",
    "    return superquantile(p, np.array(errs))"
   ]
  },
  {
   "cell_type": "code",
   "execution_count": 13,
   "id": "9194f3d6",
   "metadata": {},
   "outputs": [],
   "source": [
    "locations = np.load(\"../out/val_meta_0.npy\")\n",
    "y_val = np.load(\"../out/y_val.npy\")"
   ]
  },
  {
   "cell_type": "code",
   "execution_count": 18,
   "id": "fc6156e1",
   "metadata": {},
   "outputs": [
    {
     "name": "stdout",
     "output_type": "stream",
     "text": [
      "LR p-superquantile misclassification error:\n",
      "p = 0.50\n",
      "\n",
      "C = 0.000:\t0.6518013212662753\n",
      "C = 0.000:\t0.6316782764957426\n",
      "C = 0.278:\t0.6209691591990294\n",
      "C = 3.594:\t0.6210239837604328\n",
      "C = 46.416:\t0.6213499762985966\n",
      "C = 599.484:\t0.6213552372413573\n",
      "C = 7742.637:\t0.6209691591990294\n",
      "C = 100000.000:\t0.6213263020561721\n"
     ]
    }
   ],
   "source": [
    "# LR.\n",
    "p = 0.5\n",
    "jobs = [0, 1, 4, 5, 6, 7, 8, 9]\n",
    "\n",
    "print(\"LR p-superquantile misclassification error:\")\n",
    "print(\"p = %0.2f\\n\" % p)\n",
    "for job_id in jobs:\n",
    "    print(\"C = %0.3f:\" % np.logspace(-5, 5, 10)[job_id], end=\"\\t\")\n",
    "    y_pred = pickle.load(open(\"../out/lr_y_pred_%d.p\" % job_id, \"rb\"))\n",
    "    print(compute_location_sq(p, y_val, y_pred, locations))"
   ]
  },
  {
   "cell_type": "code",
   "execution_count": 20,
   "id": "dc9973b0",
   "metadata": {},
   "outputs": [
    {
     "name": "stdout",
     "output_type": "stream",
     "text": [
      "K-NN p-superquantile misclassification error:\n",
      "p = 0.50\n",
      "\n",
      "K = 1:\t0.7217093319662978\n",
      "K = 2:\t0.7213891574297919\n",
      "K = 3:\t0.7168001716173771\n",
      "K = 4:\t0.7095004351013967\n",
      "K = 5:\t0.7026980401515142\n",
      "K = 6:\t0.7007435443923783\n",
      "K = 7:\t0.6911474116214014\n",
      "K = 8:\t0.6905899538889307\n",
      "K = 9:\t0.6897015068907246\n"
     ]
    }
   ],
   "source": [
    "# K-NN\n",
    "p = 0.5\n",
    "jobs = np.arange(9) + 1\n",
    "\n",
    "print(\"K-NN p-superquantile misclassification error:\")\n",
    "print(\"p = %0.2f\\n\" % p)\n",
    "for job_id in jobs:\n",
    "    print(\"K = %d:\" % job_id, end=\"\\t\")\n",
    "    y_pred = pickle.load(open(\"../out/knn_y_pred_%d.p\" % job_id, \"rb\"))\n",
    "    print(compute_location_sq(p, y_val, y_pred, locations))"
   ]
  },
  {
   "cell_type": "code",
   "execution_count": null,
   "id": "605081de",
   "metadata": {},
   "outputs": [],
   "source": []
  }
 ],
 "metadata": {
  "kernelspec": {
   "display_name": "Python 3",
   "language": "python",
   "name": "python3"
  },
  "language_info": {
   "codemirror_mode": {
    "name": "ipython",
    "version": 3
   },
   "file_extension": ".py",
   "mimetype": "text/x-python",
   "name": "python",
   "nbconvert_exporter": "python",
   "pygments_lexer": "ipython3",
   "version": "3.9.4"
  }
 },
 "nbformat": 4,
 "nbformat_minor": 5
}
