{
 "cells": [
  {
   "cell_type": "code",
   "execution_count": 11,
   "id": "fcce4d41",
   "metadata": {},
   "outputs": [],
   "source": [
    "import numpy as np\n",
    "import pickle\n",
    "from sklearn.metrics import accuracy_score\n",
    "import matplotlib.pyplot as plt"
   ]
  },
  {
   "cell_type": "code",
   "execution_count": 10,
   "id": "27aa5672",
   "metadata": {},
   "outputs": [],
   "source": [
    "# Look at the distribution of accuracies across various locations.\n",
    "\n",
    "def superquantile(p, arr):\n",
    "    return np.mean(arr[arr >= np.quantile(arr, p)])\n",
    "\n",
    "def compute_location_sq(p, y_true, y_pred, locations):\n",
    "    errs = []\n",
    "    for loc in np.unique(locations):\n",
    "        idx = (locations==loc)\n",
    "        errs.append(1 - accuracy_score(y_true[idx], y_pred[idx]))\n",
    "    errs = np.array(errs)\n",
    "    return superquantile(p, errs), errs"
   ]
  },
  {
   "cell_type": "code",
   "execution_count": 6,
   "id": "9194f3d6",
   "metadata": {},
   "outputs": [
    {
     "name": "stdout",
     "output_type": "stream",
     "text": [
      "(14961,)\n",
      "(14961, 9)\n"
     ]
    }
   ],
   "source": [
    "metadata = np.load(\"../data/val_metadata.npy\")\n",
    "y_val = np.load(\"../out/y_val.npy\")\n",
    "\n",
    "print(y_val.shape)\n",
    "print(metadata.shape)\n",
    "\n",
    "locations = metadata[:, 0]"
   ]
  },
  {
   "cell_type": "code",
   "execution_count": 14,
   "id": "fc6156e1",
   "metadata": {},
   "outputs": [
    {
     "name": "stdout",
     "output_type": "stream",
     "text": [
      "LR p-superquantile misclassification error:\n",
      "p = 0.50\n",
      "\n",
      "C = 0.000:\t0.6518013212662753\n",
      "C = 0.000:\t0.6316782764957426\n",
      "C = 0.278:\t0.6209691591990294\n",
      "C = 3.594:\t0.6210239837604328\n",
      "C = 46.416:\t0.6213499762985966\n",
      "C = 599.484:\t0.6213552372413573\n",
      "C = 7742.637:\t0.6209691591990294\n",
      "C = 100000.000:\t0.6213263020561721\n"
     ]
    },
    {
     "data": {
      "text/plain": [
       "(array([3.16840278, 0.63368056, 0.95052083, 0.63368056, 0.95052083,\n",
       "        1.26736111, 0.95052083, 1.26736111, 0.        , 0.31684028]),\n",
       " array([0.01369863, 0.11232877, 0.2109589 , 0.30958904, 0.40821918,\n",
       "        0.50684932, 0.60547945, 0.70410959, 0.80273973, 0.90136986,\n",
       "        1.        ]),\n",
       " <BarContainer object of 10 artists>)"
      ]
     },
     "execution_count": 14,
     "metadata": {},
     "output_type": "execute_result"
    },
    {
     "data": {
      "image/png": "[encoded data removed]",
      "text/plain": [
       "<Figure size 432x288 with 1 Axes>"
      ]
     },
     "metadata": {
      "needs_background": "light"
     },
     "output_type": "display_data"
    }
   ],
   "source": [
    "# LR.\n",
    "p = 0.5\n",
    "jobs = [0, 1, 4, 5, 6, 7, 8, 9]\n",
    "\n",
    "print(\"LR p-superquantile misclassification error:\")\n",
    "print(\"p = %0.2f\\n\" % p)\n",
    "for job_id in jobs:\n",
    "    print(\"C = %0.3f:\" % np.logspace(-5, 5, 10)[job_id], end=\"\\t\")\n",
    "    y_pred = pickle.load(open(\"../out/lr_y_pred_%d.p\" % job_id, \"rb\"))\n",
    "    \n",
    "    sq, errs = compute_location_sq(p, y_val, y_pred, locations)\n",
    "    print(sq)\n",
    "    \n",
    "plt.hist(errs, density=True)"
   ]
  },
  {
   "cell_type": "code",
   "execution_count": 15,
   "id": "dc9973b0",
   "metadata": {},
   "outputs": [
    {
     "name": "stdout",
     "output_type": "stream",
     "text": [
      "K-NN p-superquantile misclassification error:\n",
      "p = 0.50\n",
      "\n",
      "K = 1:\t0.7217093319662978\n",
      "K = 2:\t0.7213891574297919\n",
      "K = 3:\t0.7168001716173771\n",
      "K = 4:\t0.7095004351013967\n",
      "K = 5:\t0.7026980401515142\n",
      "K = 6:\t0.7007435443923783\n",
      "K = 7:\t0.6911474116214014\n",
      "K = 8:\t0.6905899538889307\n",
      "K = 9:\t0.6897015068907246\n"
     ]
    },
    {
     "data": {
      "text/plain": [
       "(array([2.21788194, 1.90104167, 0.        , 0.63368056, 1.26736111,\n",
       "        0.        , 1.90104167, 1.26736111, 0.63368056, 0.31684028]),\n",
       " array([0.01369863, 0.11232877, 0.2109589 , 0.30958904, 0.40821918,\n",
       "        0.50684932, 0.60547945, 0.70410959, 0.80273973, 0.90136986,\n",
       "        1.        ]),\n",
       " <BarContainer object of 10 artists>)"
      ]
     },
     "execution_count": 15,
     "metadata": {},
     "output_type": "execute_result"
    },
    {
     "data": {
      "image/png": "[encoded data removed]",
      "text/plain": [
       "<Figure size 432x288 with 1 Axes>"
      ]
     },
     "metadata": {
      "needs_background": "light"
     },
     "output_type": "display_data"
    }
   ],
   "source": [
    "# K-NN\n",
    "p = 0.5\n",
    "jobs = np.arange(9) + 1\n",
    "\n",
    "print(\"K-NN p-superquantile misclassification error:\")\n",
    "print(\"p = %0.2f\\n\" % p)\n",
    "for job_id in jobs:\n",
    "    print(\"K = %d:\" % job_id, end=\"\\t\")\n",
    "    y_pred = pickle.load(open(\"../out/knn_y_pred_%d.p\" % job_id, \"rb\"))\n",
    "    \n",
    "    sq, errs = compute_location_sq(p, y_val, y_pred, locations)\n",
    "    print(sq)\n",
    "    \n",
    "plt.hist(errs, density=True)"
   ]
  },
  {
   "cell_type": "code",
   "execution_count": 9,
   "id": "605081de",
   "metadata": {},
   "outputs": [
    {
     "name": "stdout",
     "output_type": "stream",
     "text": [
      "32\n",
      "[  3  22  27  40  57  66  79  81 108 114 134 136 143 153 154 171 175 183\n",
      " 211 217 224 239 260 261 267 269 273 275 279 306 309 320]\n",
      "[ 750  175  920   46 1442  918  341  175   93   73   88  121  425  217\n",
      "  204  557  128  105  234  633  227  215 2160    4  171  195  101  209\n",
      "  179   75 2640 1140]\n"
     ]
    }
   ],
   "source": [
    "unique_locations, counts = np.unique(locations, return_counts=True)\n",
    "\n",
    "print(len(unique_locations))\n",
    "print(unique_locations)\n",
    "print(counts)"
   ]
  }
 ],
 "metadata": {
  "kernelspec": {
   "display_name": "Python 3",
   "language": "python",
   "name": "python3"
  },
  "language_info": {
   "codemirror_mode": {
    "name": "ipython",
    "version": 3
   },
   "file_extension": ".py",
   "mimetype": "text/x-python",
   "name": "python",
   "nbconvert_exporter": "python",
   "pygments_lexer": "ipython3",
   "version": "3.9.4"
  }
 },
 "nbformat": 4,
 "nbformat_minor": 5
}
