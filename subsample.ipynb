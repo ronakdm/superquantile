{
 "cells": [
  {
   "cell_type": "code",
   "execution_count": 28,
   "id": "25455d93",
   "metadata": {},
   "outputs": [],
   "source": [
    "import numpy as np"
   ]
  },
  {
   "cell_type": "code",
   "execution_count": 29,
   "id": "fe1b3436",
   "metadata": {},
   "outputs": [],
   "source": [
    "n_train = 10000"
   ]
  },
  {
   "cell_type": "code",
   "execution_count": 30,
   "id": "a397375e",
   "metadata": {},
   "outputs": [],
   "source": [
    "y_train = np.load(\"out/y_train.npy\")\n",
    "\n",
    "idx = np.random.choice(len(y_train), n_train, replace=False)\n",
    "classes, counts = np.unique(y_train[idx], return_counts=True)"
   ]
  },
  {
   "cell_type": "code",
   "execution_count": 31,
   "id": "2ab513a3",
   "metadata": {},
   "outputs": [
    {
     "name": "stdout",
     "output_type": "stream",
     "text": [
      "[  0   1   2   4   6   8  15  17  24  32  33  36  47  48  49  52  87  89\n",
      " 113 115 116 145 146 147 148 149 151 152 153 155 172]\n",
      "[3683  293  324  244   73  277  153   52  124   90  116  223  114  141\n",
      "   81  144   60  125   62   63  295  226  802  552  122  196   76   95\n",
      "  251   65   82]\n",
      "31\n"
     ]
    }
   ],
   "source": [
    "# Find threshold such that number of observed classes is small.\n",
    "\n",
    "threshold = 50\n",
    "\n",
    "sub_classes = classes[counts > threshold]\n",
    "sub_counts = counts[counts > threshold]\n",
    "\n",
    "print(sub_classes)\n",
    "print(sub_counts)\n",
    "print(len(sub_classes))"
   ]
  },
  {
   "cell_type": "code",
   "execution_count": 32,
   "id": "03cec181",
   "metadata": {},
   "outputs": [
    {
     "name": "stdout",
     "output_type": "stream",
     "text": [
      "9204\n"
     ]
    }
   ],
   "source": [
    "# Subset original idx to be those from one of the classes.\n",
    "sub_idx = np.isin(y_train[idx], sub_classes)\n",
    "\n",
    "train_idx = idx[sub_idx]\n",
    "\n",
    "print(len(train_idx))\n",
    "np.save(\"train_idx.npy\", train_idx)"
   ]
  },
  {
   "cell_type": "code",
   "execution_count": 34,
   "id": "a59b543d",
   "metadata": {},
   "outputs": [
    {
     "name": "stdout",
     "output_type": "stream",
     "text": [
      "4376\n",
      "29\n",
      "4629\n",
      "30\n"
     ]
    }
   ],
   "source": [
    "# Get validation and test indices for these classes.\n",
    "np.random.seed(123)\n",
    "\n",
    "for split in [\"val\", \"test\"]:\n",
    "\n",
    "    y = np.load(\"out/y_%s.npy\" % split)\n",
    "    idx = np.random.choice(len(y), 5000, replace=False)\n",
    "    sub_idx = np.isin(y[idx], sub_classes)\n",
    "    sub_sub_idx = idx[sub_idx]\n",
    "    print(len(sub_sub_idx))\n",
    "    print(len(np.unique(y[sub_sub_idx])))\n",
    "    np.save(\"%s_idx.npy\" % split, sub_sub_idx)"
   ]
  },
  {
   "cell_type": "code",
   "execution_count": 53,
   "id": "84ed8bba",
   "metadata": {},
   "outputs": [
    {
     "data": {
      "image/png": "[encoded data removed]",
      "text/plain": [
       "<Figure size 1152x360 with 1 Axes>"
      ]
     },
     "metadata": {
      "needs_background": "light"
     },
     "output_type": "display_data"
    }
   ],
   "source": [
    "# Assess class distributions.\n",
    "import matplotlib.pyplot as plt\n",
    "\n",
    "def split_to_counts(split):\n",
    "    idx = np.load(\"%s_idx.npy\" % split)\n",
    "    y = np.load(\"out/y_%s.npy\" % split)\n",
    "    \n",
    "    classes, counts_ = np.unique(y[idx], return_counts=True)\n",
    "    \n",
    "    counts = np.zeros(len(sub_classes))\n",
    "    \n",
    "    for i, sub_class in enumerate(sub_classes):\n",
    "        for j, obs_class in enumerate(classes):\n",
    "            if obs_class == sub_class:\n",
    "                counts[i] += counts_[j]\n",
    "        \n",
    "    return counts / counts.sum()\n",
    "        \n",
    "x = np.arange(len(sub_classes))\n",
    "y1 = split_to_counts(\"train\")\n",
    "y2 = split_to_counts(\"val\")\n",
    "y3 = split_to_counts(\"test\")\n",
    "\n",
    "# ax = plt.subplot(111)\n",
    "fig, ax = plt.subplots(figsize=(16,5))\n",
    "ax.bar(x-0.2, y1, width=0.2, color='b', align='center', label=\"train\")\n",
    "ax.bar(x, y2, width=0.2, color='g', align='center', label=\"val\")\n",
    "ax.bar(x+0.2, y3, width=0.2, color='r', align='center', label=\"test\")\n",
    "plt.legend()\n",
    "\n",
    "plt.show()"
   ]
  },
  {
   "cell_type": "code",
   "execution_count": null,
   "id": "5269d31b",
   "metadata": {},
   "outputs": [],
   "source": []
  }
 ],
 "metadata": {
  "kernelspec": {
   "display_name": "Python 3",
   "language": "python",
   "name": "python3"
  },
  "language_info": {
   "codemirror_mode": {
    "name": "ipython",
    "version": 3
   },
   "file_extension": ".py",
   "mimetype": "text/x-python",
   "name": "python",
   "nbconvert_exporter": "python",
   "pygments_lexer": "ipython3",
   "version": "3.9.4"
  }
 },
 "nbformat": 4,
 "nbformat_minor": 5
}
